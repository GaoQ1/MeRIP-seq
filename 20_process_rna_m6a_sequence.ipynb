{
 "cells": [
  {
   "cell_type": "code",
   "execution_count": 1,
   "metadata": {},
   "outputs": [],
   "source": [
    "import pandas as pd\n",
    "from tqdm import tqdm"
   ]
  },
  {
   "cell_type": "code",
   "execution_count": 3,
   "metadata": {},
   "outputs": [],
   "source": [
    "df_be1 = pd.read_csv(\"./7_featurecounts/BE2-shMETTL14-1-IP_fwd_peaks_peaks_merged.csv\")\n",
    "df_be2 = pd.read_csv(\"./7_featurecounts/BE2-shMETTL14-1-IP_rev_peaks_peaks_merged.csv\")\n",
    "df_be1[\"name\"] = \"shMETTL14-1\"\n",
    "df_be2[\"name\"] = \"shMETTL14-1\"\n",
    "df_be1[\"Strand\"] = \"-\"\n",
    "df_be2[\"Strand\"] = \"+\"\n",
    "\n",
    "df_be3 = pd.read_csv(\"./7_featurecounts/BE2-shMETTL14-2-IP_fwd_peaks_peaks_merged.csv\")\n",
    "df_be4 = pd.read_csv(\"./7_featurecounts/BE2-shMETTL14-2-IP_rev_peaks_peaks_merged.csv\")\n",
    "df_be3[\"name\"] = \"shMETTL14-2\"\n",
    "df_be4[\"name\"] = \"shMETTL14-2\"\n",
    "df_be3[\"Strand\"] = \"-\"\n",
    "df_be4[\"Strand\"] = \"+\"\n",
    "\n",
    "df_be5 = pd.read_csv(\"./7_featurecounts/BE2-shNC-1-IP_fwd_peaks_peaks_merged.csv\")\n",
    "df_be6 = pd.read_csv(\"./7_featurecounts/BE2-shNC-1-IP_rev_peaks_peaks_merged.csv\")\n",
    "df_be5[\"name\"] = \"shNC-1\"\n",
    "df_be6[\"name\"] = \"shNC-1\"\n",
    "df_be5[\"Strand\"] = \"-\"\n",
    "df_be6[\"Strand\"] = \"+\"\n",
    "\n",
    "df_be7 = pd.read_csv(\"./7_featurecounts/BE2-shNC-2-IP_fwd_peaks_peaks_merged.csv\")\n",
    "df_be8 = pd.read_csv(\"./7_featurecounts/BE2-shNC-2-IP_rev_peaks_peaks_merged.csv\")\n",
    "df_be7[\"name\"] = \"shNC-2\"\n",
    "df_be8[\"name\"] = \"shNC-2\"\n",
    "df_be7[\"Strand\"] = \"-\"\n",
    "df_be8[\"Strand\"] = \"+\"\n",
    "\n",
    "df_be_merge = pd.concat([\n",
    "    df_be1[[\"name\", \"Chr\", \"Start\", \"End\", \"Strand\", \"Length\", \"IP/input\", \"kmers\", \"Site\"]], \n",
    "    df_be2[[\"name\", \"Chr\", \"Start\", \"End\", \"Strand\", \"Length\", \"IP/input\", \"kmers\", \"Site\"]],\n",
    "    df_be3[[\"name\", \"Chr\", \"Start\", \"End\", \"Strand\", \"Length\", \"IP/input\", \"kmers\", \"Site\"]],\n",
    "    df_be4[[\"name\", \"Chr\", \"Start\", \"End\", \"Strand\", \"Length\", \"IP/input\", \"kmers\", \"Site\"]],\n",
    "    df_be5[[\"name\", \"Chr\", \"Start\", \"End\", \"Strand\", \"Length\", \"IP/input\", \"kmers\", \"Site\"]],\n",
    "    df_be6[[\"name\", \"Chr\", \"Start\", \"End\", \"Strand\", \"Length\", \"IP/input\", \"kmers\", \"Site\"]],\n",
    "    df_be7[[\"name\", \"Chr\", \"Start\", \"End\", \"Strand\", \"Length\", \"IP/input\", \"kmers\", \"Site\"]],\n",
    "    df_be8[[\"name\", \"Chr\", \"Start\", \"End\", \"Strand\", \"Length\", \"IP/input\", \"kmers\", \"Site\"]]\n",
    "    ], axis=0, ignore_index=True)\n",
    "\n",
    "df_be_merge.to_csv(\"./7_featurecounts/BE2_merged_all.csv\", sep='\\t', index=False)"
   ]
  },
  {
   "cell_type": "code",
   "execution_count": 3,
   "metadata": {},
   "outputs": [],
   "source": [
    "gene_exon_fpkm_df = pd.read_csv('./7_featurecounts_rna/gene_exon_counts_with_fpkm.csv', sep='\\t')\n",
    "m6a_merged_cpm_df = pd.read_csv('./7_featurecounts/BE2_merged_all.csv', sep='\\t')\n",
    "mane_gene_feature_df = pd.read_csv(\"./7_MANE_Gene_mRNA_feature_df.csv\", sep=',')"
   ]
  },
  {
   "cell_type": "code",
   "execution_count": 4,
   "metadata": {},
   "outputs": [
    {
     "data": {
      "text/html": [
       "<div>\n",
       "<style scoped>\n",
       "    .dataframe tbody tr th:only-of-type {\n",
       "        vertical-align: middle;\n",
       "    }\n",
       "\n",
       "    .dataframe tbody tr th {\n",
       "        vertical-align: top;\n",
       "    }\n",
       "\n",
       "    .dataframe thead th {\n",
       "        text-align: right;\n",
       "    }\n",
       "</style>\n",
       "<table border=\"1\" class=\"dataframe\">\n",
       "  <thead>\n",
       "    <tr style=\"text-align: right;\">\n",
       "      <th></th>\n",
       "      <th>Gene</th>\n",
       "      <th>Length</th>\n",
       "      <th>Chr</th>\n",
       "      <th>Strand</th>\n",
       "      <th>FPKM_BE2-shMETTL14-1-input.bam</th>\n",
       "      <th>FPKM_BE2-shMETTL14-2-input.bam</th>\n",
       "      <th>FPKM_BE2-shNC-1-input.bam</th>\n",
       "      <th>FPKM_BE2-shNC-2-input.bam</th>\n",
       "    </tr>\n",
       "  </thead>\n",
       "  <tbody>\n",
       "    <tr>\n",
       "      <th>0</th>\n",
       "      <td>PRDM16</td>\n",
       "      <td>9767</td>\n",
       "      <td>chr1</td>\n",
       "      <td>+</td>\n",
       "      <td>0.000000</td>\n",
       "      <td>0.000116</td>\n",
       "      <td>0.000070</td>\n",
       "      <td>0.000000</td>\n",
       "    </tr>\n",
       "    <tr>\n",
       "      <th>1</th>\n",
       "      <td>PEX10</td>\n",
       "      <td>3782</td>\n",
       "      <td>chr1</td>\n",
       "      <td>-</td>\n",
       "      <td>0.039084</td>\n",
       "      <td>0.039496</td>\n",
       "      <td>0.044375</td>\n",
       "      <td>0.039680</td>\n",
       "    </tr>\n",
       "    <tr>\n",
       "      <th>2</th>\n",
       "      <td>PEX14</td>\n",
       "      <td>2932</td>\n",
       "      <td>chr1</td>\n",
       "      <td>+</td>\n",
       "      <td>0.056591</td>\n",
       "      <td>0.053069</td>\n",
       "      <td>0.053982</td>\n",
       "      <td>0.066880</td>\n",
       "    </tr>\n",
       "    <tr>\n",
       "      <th>3</th>\n",
       "      <td>PLCH2</td>\n",
       "      <td>10809</td>\n",
       "      <td>chr1</td>\n",
       "      <td>+</td>\n",
       "      <td>0.001081</td>\n",
       "      <td>0.000890</td>\n",
       "      <td>0.001136</td>\n",
       "      <td>0.000987</td>\n",
       "    </tr>\n",
       "    <tr>\n",
       "      <th>4</th>\n",
       "      <td>SPSB1</td>\n",
       "      <td>3389</td>\n",
       "      <td>chr1</td>\n",
       "      <td>+</td>\n",
       "      <td>0.000000</td>\n",
       "      <td>0.000000</td>\n",
       "      <td>0.000000</td>\n",
       "      <td>0.000000</td>\n",
       "    </tr>\n",
       "    <tr>\n",
       "      <th>...</th>\n",
       "      <td>...</td>\n",
       "      <td>...</td>\n",
       "      <td>...</td>\n",
       "      <td>...</td>\n",
       "      <td>...</td>\n",
       "      <td>...</td>\n",
       "      <td>...</td>\n",
       "      <td>...</td>\n",
       "    </tr>\n",
       "    <tr>\n",
       "      <th>19453</th>\n",
       "      <td>MT-ND4L</td>\n",
       "      <td>297</td>\n",
       "      <td>chrMT</td>\n",
       "      <td>+</td>\n",
       "      <td>4.223498</td>\n",
       "      <td>3.840684</td>\n",
       "      <td>4.391907</td>\n",
       "      <td>4.365662</td>\n",
       "    </tr>\n",
       "    <tr>\n",
       "      <th>19454</th>\n",
       "      <td>MT-ND4</td>\n",
       "      <td>1378</td>\n",
       "      <td>chrMT</td>\n",
       "      <td>+</td>\n",
       "      <td>16.280911</td>\n",
       "      <td>14.945236</td>\n",
       "      <td>15.021618</td>\n",
       "      <td>15.023904</td>\n",
       "    </tr>\n",
       "    <tr>\n",
       "      <th>19455</th>\n",
       "      <td>MT-ND5</td>\n",
       "      <td>1812</td>\n",
       "      <td>chrMT</td>\n",
       "      <td>+</td>\n",
       "      <td>21.163810</td>\n",
       "      <td>25.198442</td>\n",
       "      <td>18.368244</td>\n",
       "      <td>19.175196</td>\n",
       "    </tr>\n",
       "    <tr>\n",
       "      <th>19456</th>\n",
       "      <td>MT-ND6</td>\n",
       "      <td>525</td>\n",
       "      <td>chrMT</td>\n",
       "      <td>-</td>\n",
       "      <td>24.834405</td>\n",
       "      <td>25.760212</td>\n",
       "      <td>27.141790</td>\n",
       "      <td>27.312991</td>\n",
       "    </tr>\n",
       "    <tr>\n",
       "      <th>19457</th>\n",
       "      <td>MT-CYB</td>\n",
       "      <td>1141</td>\n",
       "      <td>chrMT</td>\n",
       "      <td>+</td>\n",
       "      <td>8.144643</td>\n",
       "      <td>7.844051</td>\n",
       "      <td>6.834713</td>\n",
       "      <td>6.808301</td>\n",
       "    </tr>\n",
       "  </tbody>\n",
       "</table>\n",
       "<p>19458 rows × 8 columns</p>\n",
       "</div>"
      ],
      "text/plain": [
       "          Gene  Length    Chr Strand  FPKM_BE2-shMETTL14-1-input.bam  \\\n",
       "0       PRDM16    9767   chr1      +                        0.000000   \n",
       "1        PEX10    3782   chr1      -                        0.039084   \n",
       "2        PEX14    2932   chr1      +                        0.056591   \n",
       "3        PLCH2   10809   chr1      +                        0.001081   \n",
       "4        SPSB1    3389   chr1      +                        0.000000   \n",
       "...        ...     ...    ...    ...                             ...   \n",
       "19453  MT-ND4L     297  chrMT      +                        4.223498   \n",
       "19454   MT-ND4    1378  chrMT      +                       16.280911   \n",
       "19455   MT-ND5    1812  chrMT      +                       21.163810   \n",
       "19456   MT-ND6     525  chrMT      -                       24.834405   \n",
       "19457   MT-CYB    1141  chrMT      +                        8.144643   \n",
       "\n",
       "       FPKM_BE2-shMETTL14-2-input.bam  FPKM_BE2-shNC-1-input.bam  \\\n",
       "0                            0.000116                   0.000070   \n",
       "1                            0.039496                   0.044375   \n",
       "2                            0.053069                   0.053982   \n",
       "3                            0.000890                   0.001136   \n",
       "4                            0.000000                   0.000000   \n",
       "...                               ...                        ...   \n",
       "19453                        3.840684                   4.391907   \n",
       "19454                       14.945236                  15.021618   \n",
       "19455                       25.198442                  18.368244   \n",
       "19456                       25.760212                  27.141790   \n",
       "19457                        7.844051                   6.834713   \n",
       "\n",
       "       FPKM_BE2-shNC-2-input.bam  \n",
       "0                       0.000000  \n",
       "1                       0.039680  \n",
       "2                       0.066880  \n",
       "3                       0.000987  \n",
       "4                       0.000000  \n",
       "...                          ...  \n",
       "19453                   4.365662  \n",
       "19454                  15.023904  \n",
       "19455                  19.175196  \n",
       "19456                  27.312991  \n",
       "19457                   6.808301  \n",
       "\n",
       "[19458 rows x 8 columns]"
      ]
     },
     "execution_count": 4,
     "metadata": {},
     "output_type": "execute_result"
    }
   ],
   "source": [
    "gene_exon_fpkm_df"
   ]
  },
  {
   "cell_type": "code",
   "execution_count": 5,
   "metadata": {},
   "outputs": [
    {
     "data": {
      "text/html": [
       "<div>\n",
       "<style scoped>\n",
       "    .dataframe tbody tr th:only-of-type {\n",
       "        vertical-align: middle;\n",
       "    }\n",
       "\n",
       "    .dataframe tbody tr th {\n",
       "        vertical-align: top;\n",
       "    }\n",
       "\n",
       "    .dataframe thead th {\n",
       "        text-align: right;\n",
       "    }\n",
       "</style>\n",
       "<table border=\"1\" class=\"dataframe\">\n",
       "  <thead>\n",
       "    <tr style=\"text-align: right;\">\n",
       "      <th></th>\n",
       "      <th>Unnamed: 0</th>\n",
       "      <th>Gene</th>\n",
       "      <th>Chr</th>\n",
       "      <th>Data_set</th>\n",
       "      <th>Type</th>\n",
       "      <th>Start</th>\n",
       "      <th>End</th>\n",
       "      <th>Strand</th>\n",
       "      <th>Exon_number</th>\n",
       "      <th>Length</th>\n",
       "      <th>transcript_length</th>\n",
       "      <th>Element_Sequences</th>\n",
       "      <th>Refseq_id</th>\n",
       "      <th>Stitched_mRNA_sequence</th>\n",
       "      <th>Transcript_id</th>\n",
       "      <th>5'UTR</th>\n",
       "      <th>CDS</th>\n",
       "      <th>3'UTR</th>\n",
       "    </tr>\n",
       "  </thead>\n",
       "  <tbody>\n",
       "    <tr>\n",
       "      <th>0</th>\n",
       "      <td>0</td>\n",
       "      <td>A1BG</td>\n",
       "      <td>chr19</td>\n",
       "      <td>ensembl_havana</td>\n",
       "      <td>5'UTR</td>\n",
       "      <td>58353438</td>\n",
       "      <td>58353492</td>\n",
       "      <td>-</td>\n",
       "      <td>NaN</td>\n",
       "      <td>55</td>\n",
       "      <td>3382</td>\n",
       "      <td>ATTGCTGCAGACGCTCACCCCAGACACTCACTGCACCGGAGTGAGC...</td>\n",
       "      <td>NM_130786.4:NP_570602.2</td>\n",
       "      <td>ATTGCTGCAGACGCTCACCCCAGACACTCACTGCACCGGAGTGAGC...</td>\n",
       "      <td>ENST00000263100.8</td>\n",
       "      <td>ATTGCTGCAGACGCTCACCCCAGACACTCACTGCACCGGAGTGAGC...</td>\n",
       "      <td>ATGTCCATGCTCGTGGTCTTTCTCTTGCTGTGGGGTGTCACCTGGG...</td>\n",
       "      <td>TGATGCAGCCGCGGGCCCAGGGTGCTGTTGGTGTCCTCAGAAGTGC...</td>\n",
       "    </tr>\n",
       "    <tr>\n",
       "      <th>1</th>\n",
       "      <td>1</td>\n",
       "      <td>A1BG</td>\n",
       "      <td>chr19</td>\n",
       "      <td>ensembl_havana</td>\n",
       "      <td>First_exon_include_Start_codon</td>\n",
       "      <td>58353404</td>\n",
       "      <td>58353437</td>\n",
       "      <td>-</td>\n",
       "      <td>1.0</td>\n",
       "      <td>34</td>\n",
       "      <td>3382</td>\n",
       "      <td>ATGTCCATGCTCGTGGTCTTTCTCTTGCTGTGGG</td>\n",
       "      <td>NM_130786.4:NP_570602.2</td>\n",
       "      <td>ATTGCTGCAGACGCTCACCCCAGACACTCACTGCACCGGAGTGAGC...</td>\n",
       "      <td>ENST00000263100.8</td>\n",
       "      <td>ATTGCTGCAGACGCTCACCCCAGACACTCACTGCACCGGAGTGAGC...</td>\n",
       "      <td>ATGTCCATGCTCGTGGTCTTTCTCTTGCTGTGGGGTGTCACCTGGG...</td>\n",
       "      <td>TGATGCAGCCGCGGGCCCAGGGTGCTGTTGGTGTCCTCAGAAGTGC...</td>\n",
       "    </tr>\n",
       "    <tr>\n",
       "      <th>2</th>\n",
       "      <td>2</td>\n",
       "      <td>A1BG</td>\n",
       "      <td>chr19</td>\n",
       "      <td>ensembl_havana</td>\n",
       "      <td>start_codon</td>\n",
       "      <td>58353435</td>\n",
       "      <td>58353437</td>\n",
       "      <td>-</td>\n",
       "      <td>NaN</td>\n",
       "      <td>3</td>\n",
       "      <td>3382</td>\n",
       "      <td>ATG</td>\n",
       "      <td>NM_130786.4:NP_570602.2</td>\n",
       "      <td>ATTGCTGCAGACGCTCACCCCAGACACTCACTGCACCGGAGTGAGC...</td>\n",
       "      <td>ENST00000263100.8</td>\n",
       "      <td>ATTGCTGCAGACGCTCACCCCAGACACTCACTGCACCGGAGTGAGC...</td>\n",
       "      <td>ATGTCCATGCTCGTGGTCTTTCTCTTGCTGTGGGGTGTCACCTGGG...</td>\n",
       "      <td>TGATGCAGCCGCGGGCCCAGGGTGCTGTTGGTGTCCTCAGAAGTGC...</td>\n",
       "    </tr>\n",
       "    <tr>\n",
       "      <th>3</th>\n",
       "      <td>3</td>\n",
       "      <td>A1BG</td>\n",
       "      <td>chr19</td>\n",
       "      <td>ensembl_havana</td>\n",
       "      <td>CDS_exon</td>\n",
       "      <td>58353292</td>\n",
       "      <td>58353327</td>\n",
       "      <td>-</td>\n",
       "      <td>2.0</td>\n",
       "      <td>36</td>\n",
       "      <td>3382</td>\n",
       "      <td>GTGTCACCTGGGGCCCAGTGACAGAAGCAGCCATAT</td>\n",
       "      <td>NM_130786.4:NP_570602.2</td>\n",
       "      <td>ATTGCTGCAGACGCTCACCCCAGACACTCACTGCACCGGAGTGAGC...</td>\n",
       "      <td>ENST00000263100.8</td>\n",
       "      <td>ATTGCTGCAGACGCTCACCCCAGACACTCACTGCACCGGAGTGAGC...</td>\n",
       "      <td>ATGTCCATGCTCGTGGTCTTTCTCTTGCTGTGGGGTGTCACCTGGG...</td>\n",
       "      <td>TGATGCAGCCGCGGGCCCAGGGTGCTGTTGGTGTCCTCAGAAGTGC...</td>\n",
       "    </tr>\n",
       "    <tr>\n",
       "      <th>4</th>\n",
       "      <td>4</td>\n",
       "      <td>A1BG</td>\n",
       "      <td>chr19</td>\n",
       "      <td>ensembl_havana</td>\n",
       "      <td>CDS_exon</td>\n",
       "      <td>58352928</td>\n",
       "      <td>58353197</td>\n",
       "      <td>-</td>\n",
       "      <td>3.0</td>\n",
       "      <td>270</td>\n",
       "      <td>3382</td>\n",
       "      <td>TTTATGAGACGCAGCCCAGCCTGTGGGCAGAGTCCGAATCACTGCT...</td>\n",
       "      <td>NM_130786.4:NP_570602.2</td>\n",
       "      <td>ATTGCTGCAGACGCTCACCCCAGACACTCACTGCACCGGAGTGAGC...</td>\n",
       "      <td>ENST00000263100.8</td>\n",
       "      <td>ATTGCTGCAGACGCTCACCCCAGACACTCACTGCACCGGAGTGAGC...</td>\n",
       "      <td>ATGTCCATGCTCGTGGTCTTTCTCTTGCTGTGGGGTGTCACCTGGG...</td>\n",
       "      <td>TGATGCAGCCGCGGGCCCAGGGTGCTGTTGGTGTCCTCAGAAGTGC...</td>\n",
       "    </tr>\n",
       "    <tr>\n",
       "      <th>...</th>\n",
       "      <td>...</td>\n",
       "      <td>...</td>\n",
       "      <td>...</td>\n",
       "      <td>...</td>\n",
       "      <td>...</td>\n",
       "      <td>...</td>\n",
       "      <td>...</td>\n",
       "      <td>...</td>\n",
       "      <td>...</td>\n",
       "      <td>...</td>\n",
       "      <td>...</td>\n",
       "      <td>...</td>\n",
       "      <td>...</td>\n",
       "      <td>...</td>\n",
       "      <td>...</td>\n",
       "      <td>...</td>\n",
       "      <td>...</td>\n",
       "      <td>...</td>\n",
       "    </tr>\n",
       "    <tr>\n",
       "      <th>278512</th>\n",
       "      <td>278512</td>\n",
       "      <td>ZZZ3</td>\n",
       "      <td>chr1</td>\n",
       "      <td>ensembl_havana</td>\n",
       "      <td>CDS_exon</td>\n",
       "      <td>77568332</td>\n",
       "      <td>77568466</td>\n",
       "      <td>-</td>\n",
       "      <td>9.0</td>\n",
       "      <td>135</td>\n",
       "      <td>6412</td>\n",
       "      <td>GATGACGAAAGTATTCCTATCATGTATAGGAATTTACCTGAATATA...</td>\n",
       "      <td>NM_015534.6:NP_056349.1</td>\n",
       "      <td>GTTGGCAGAGCAGTTGTCCTGGATGGCGGAGCCTTGGGTTCCGGGG...</td>\n",
       "      <td>ENST00000370801.8</td>\n",
       "      <td>GTTGGCAGAGCAGTTGTCCTGGATGGCGGAGCCTTGGGTTCCGGGG...</td>\n",
       "      <td>ATGGCTGCTTCCCGATCTACTCGTGTTACAAGATCAACAGTGGGGT...</td>\n",
       "      <td>TGACATGGAAGAGAACATCATTTACTAGTCCTCTTCAACACATAGC...</td>\n",
       "    </tr>\n",
       "    <tr>\n",
       "      <th>278513</th>\n",
       "      <td>278513</td>\n",
       "      <td>ZZZ3</td>\n",
       "      <td>chr1</td>\n",
       "      <td>ensembl_havana</td>\n",
       "      <td>CDS_exon</td>\n",
       "      <td>77566081</td>\n",
       "      <td>77566181</td>\n",
       "      <td>-</td>\n",
       "      <td>10.0</td>\n",
       "      <td>101</td>\n",
       "      <td>6412</td>\n",
       "      <td>TGTGATAACTGTGGCATAGAACCCATCCAGGGTGTTCGGTGGCATT...</td>\n",
       "      <td>NM_015534.6:NP_056349.1</td>\n",
       "      <td>GTTGGCAGAGCAGTTGTCCTGGATGGCGGAGCCTTGGGTTCCGGGG...</td>\n",
       "      <td>ENST00000370801.8</td>\n",
       "      <td>GTTGGCAGAGCAGTTGTCCTGGATGGCGGAGCCTTGGGTTCCGGGG...</td>\n",
       "      <td>ATGGCTGCTTCCCGATCTACTCGTGTTACAAGATCAACAGTGGGGT...</td>\n",
       "      <td>TGACATGGAAGAGAACATCATTTACTAGTCCTCTTCAACACATAGC...</td>\n",
       "    </tr>\n",
       "    <tr>\n",
       "      <th>278514</th>\n",
       "      <td>278514</td>\n",
       "      <td>ZZZ3</td>\n",
       "      <td>chr1</td>\n",
       "      <td>ensembl_havana</td>\n",
       "      <td>Last_exon</td>\n",
       "      <td>77565643</td>\n",
       "      <td>77565784</td>\n",
       "      <td>-</td>\n",
       "      <td>11.0</td>\n",
       "      <td>142</td>\n",
       "      <td>6412</td>\n",
       "      <td>TCTACATGAAACAGATATTCACAAGGAAGATCACCAATTAGAACCT...</td>\n",
       "      <td>NM_015534.6:NP_056349.1</td>\n",
       "      <td>GTTGGCAGAGCAGTTGTCCTGGATGGCGGAGCCTTGGGTTCCGGGG...</td>\n",
       "      <td>ENST00000370801.8</td>\n",
       "      <td>GTTGGCAGAGCAGTTGTCCTGGATGGCGGAGCCTTGGGTTCCGGGG...</td>\n",
       "      <td>ATGGCTGCTTCCCGATCTACTCGTGTTACAAGATCAACAGTGGGGT...</td>\n",
       "      <td>TGACATGGAAGAGAACATCATTTACTAGTCCTCTTCAACACATAGC...</td>\n",
       "    </tr>\n",
       "    <tr>\n",
       "      <th>278515</th>\n",
       "      <td>278515</td>\n",
       "      <td>ZZZ3</td>\n",
       "      <td>chr1</td>\n",
       "      <td>ensembl_havana</td>\n",
       "      <td>stop_codon</td>\n",
       "      <td>77565640</td>\n",
       "      <td>77565642</td>\n",
       "      <td>-</td>\n",
       "      <td>NaN</td>\n",
       "      <td>3</td>\n",
       "      <td>6412</td>\n",
       "      <td>TGA</td>\n",
       "      <td>NM_015534.6:NP_056349.1</td>\n",
       "      <td>GTTGGCAGAGCAGTTGTCCTGGATGGCGGAGCCTTGGGTTCCGGGG...</td>\n",
       "      <td>ENST00000370801.8</td>\n",
       "      <td>GTTGGCAGAGCAGTTGTCCTGGATGGCGGAGCCTTGGGTTCCGGGG...</td>\n",
       "      <td>ATGGCTGCTTCCCGATCTACTCGTGTTACAAGATCAACAGTGGGGT...</td>\n",
       "      <td>TGACATGGAAGAGAACATCATTTACTAGTCCTCTTCAACACATAGC...</td>\n",
       "    </tr>\n",
       "    <tr>\n",
       "      <th>278516</th>\n",
       "      <td>278516</td>\n",
       "      <td>ZZZ3</td>\n",
       "      <td>chr1</td>\n",
       "      <td>ensembl_havana</td>\n",
       "      <td>3'UTR_include_Stop_Codon</td>\n",
       "      <td>77562416</td>\n",
       "      <td>77565642</td>\n",
       "      <td>-</td>\n",
       "      <td>NaN</td>\n",
       "      <td>3227</td>\n",
       "      <td>6412</td>\n",
       "      <td>TGACATGGAAGAGAACATCATTTACTAGTCCTCTTCAACACATAGC...</td>\n",
       "      <td>NM_015534.6:NP_056349.1</td>\n",
       "      <td>GTTGGCAGAGCAGTTGTCCTGGATGGCGGAGCCTTGGGTTCCGGGG...</td>\n",
       "      <td>ENST00000370801.8</td>\n",
       "      <td>GTTGGCAGAGCAGTTGTCCTGGATGGCGGAGCCTTGGGTTCCGGGG...</td>\n",
       "      <td>ATGGCTGCTTCCCGATCTACTCGTGTTACAAGATCAACAGTGGGGT...</td>\n",
       "      <td>TGACATGGAAGAGAACATCATTTACTAGTCCTCTTCAACACATAGC...</td>\n",
       "    </tr>\n",
       "  </tbody>\n",
       "</table>\n",
       "<p>278517 rows × 18 columns</p>\n",
       "</div>"
      ],
      "text/plain": [
       "        Unnamed: 0  Gene    Chr        Data_set  \\\n",
       "0                0  A1BG  chr19  ensembl_havana   \n",
       "1                1  A1BG  chr19  ensembl_havana   \n",
       "2                2  A1BG  chr19  ensembl_havana   \n",
       "3                3  A1BG  chr19  ensembl_havana   \n",
       "4                4  A1BG  chr19  ensembl_havana   \n",
       "...            ...   ...    ...             ...   \n",
       "278512      278512  ZZZ3   chr1  ensembl_havana   \n",
       "278513      278513  ZZZ3   chr1  ensembl_havana   \n",
       "278514      278514  ZZZ3   chr1  ensembl_havana   \n",
       "278515      278515  ZZZ3   chr1  ensembl_havana   \n",
       "278516      278516  ZZZ3   chr1  ensembl_havana   \n",
       "\n",
       "                                  Type     Start       End Strand  \\\n",
       "0                                5'UTR  58353438  58353492      -   \n",
       "1       First_exon_include_Start_codon  58353404  58353437      -   \n",
       "2                          start_codon  58353435  58353437      -   \n",
       "3                             CDS_exon  58353292  58353327      -   \n",
       "4                             CDS_exon  58352928  58353197      -   \n",
       "...                                ...       ...       ...    ...   \n",
       "278512                        CDS_exon  77568332  77568466      -   \n",
       "278513                        CDS_exon  77566081  77566181      -   \n",
       "278514                       Last_exon  77565643  77565784      -   \n",
       "278515                      stop_codon  77565640  77565642      -   \n",
       "278516        3'UTR_include_Stop_Codon  77562416  77565642      -   \n",
       "\n",
       "        Exon_number  Length  transcript_length  \\\n",
       "0               NaN      55               3382   \n",
       "1               1.0      34               3382   \n",
       "2               NaN       3               3382   \n",
       "3               2.0      36               3382   \n",
       "4               3.0     270               3382   \n",
       "...             ...     ...                ...   \n",
       "278512          9.0     135               6412   \n",
       "278513         10.0     101               6412   \n",
       "278514         11.0     142               6412   \n",
       "278515          NaN       3               6412   \n",
       "278516          NaN    3227               6412   \n",
       "\n",
       "                                        Element_Sequences  \\\n",
       "0       ATTGCTGCAGACGCTCACCCCAGACACTCACTGCACCGGAGTGAGC...   \n",
       "1                      ATGTCCATGCTCGTGGTCTTTCTCTTGCTGTGGG   \n",
       "2                                                     ATG   \n",
       "3                    GTGTCACCTGGGGCCCAGTGACAGAAGCAGCCATAT   \n",
       "4       TTTATGAGACGCAGCCCAGCCTGTGGGCAGAGTCCGAATCACTGCT...   \n",
       "...                                                   ...   \n",
       "278512  GATGACGAAAGTATTCCTATCATGTATAGGAATTTACCTGAATATA...   \n",
       "278513  TGTGATAACTGTGGCATAGAACCCATCCAGGGTGTTCGGTGGCATT...   \n",
       "278514  TCTACATGAAACAGATATTCACAAGGAAGATCACCAATTAGAACCT...   \n",
       "278515                                                TGA   \n",
       "278516  TGACATGGAAGAGAACATCATTTACTAGTCCTCTTCAACACATAGC...   \n",
       "\n",
       "                      Refseq_id  \\\n",
       "0       NM_130786.4:NP_570602.2   \n",
       "1       NM_130786.4:NP_570602.2   \n",
       "2       NM_130786.4:NP_570602.2   \n",
       "3       NM_130786.4:NP_570602.2   \n",
       "4       NM_130786.4:NP_570602.2   \n",
       "...                         ...   \n",
       "278512  NM_015534.6:NP_056349.1   \n",
       "278513  NM_015534.6:NP_056349.1   \n",
       "278514  NM_015534.6:NP_056349.1   \n",
       "278515  NM_015534.6:NP_056349.1   \n",
       "278516  NM_015534.6:NP_056349.1   \n",
       "\n",
       "                                   Stitched_mRNA_sequence      Transcript_id  \\\n",
       "0       ATTGCTGCAGACGCTCACCCCAGACACTCACTGCACCGGAGTGAGC...  ENST00000263100.8   \n",
       "1       ATTGCTGCAGACGCTCACCCCAGACACTCACTGCACCGGAGTGAGC...  ENST00000263100.8   \n",
       "2       ATTGCTGCAGACGCTCACCCCAGACACTCACTGCACCGGAGTGAGC...  ENST00000263100.8   \n",
       "3       ATTGCTGCAGACGCTCACCCCAGACACTCACTGCACCGGAGTGAGC...  ENST00000263100.8   \n",
       "4       ATTGCTGCAGACGCTCACCCCAGACACTCACTGCACCGGAGTGAGC...  ENST00000263100.8   \n",
       "...                                                   ...                ...   \n",
       "278512  GTTGGCAGAGCAGTTGTCCTGGATGGCGGAGCCTTGGGTTCCGGGG...  ENST00000370801.8   \n",
       "278513  GTTGGCAGAGCAGTTGTCCTGGATGGCGGAGCCTTGGGTTCCGGGG...  ENST00000370801.8   \n",
       "278514  GTTGGCAGAGCAGTTGTCCTGGATGGCGGAGCCTTGGGTTCCGGGG...  ENST00000370801.8   \n",
       "278515  GTTGGCAGAGCAGTTGTCCTGGATGGCGGAGCCTTGGGTTCCGGGG...  ENST00000370801.8   \n",
       "278516  GTTGGCAGAGCAGTTGTCCTGGATGGCGGAGCCTTGGGTTCCGGGG...  ENST00000370801.8   \n",
       "\n",
       "                                                    5'UTR  \\\n",
       "0       ATTGCTGCAGACGCTCACCCCAGACACTCACTGCACCGGAGTGAGC...   \n",
       "1       ATTGCTGCAGACGCTCACCCCAGACACTCACTGCACCGGAGTGAGC...   \n",
       "2       ATTGCTGCAGACGCTCACCCCAGACACTCACTGCACCGGAGTGAGC...   \n",
       "3       ATTGCTGCAGACGCTCACCCCAGACACTCACTGCACCGGAGTGAGC...   \n",
       "4       ATTGCTGCAGACGCTCACCCCAGACACTCACTGCACCGGAGTGAGC...   \n",
       "...                                                   ...   \n",
       "278512  GTTGGCAGAGCAGTTGTCCTGGATGGCGGAGCCTTGGGTTCCGGGG...   \n",
       "278513  GTTGGCAGAGCAGTTGTCCTGGATGGCGGAGCCTTGGGTTCCGGGG...   \n",
       "278514  GTTGGCAGAGCAGTTGTCCTGGATGGCGGAGCCTTGGGTTCCGGGG...   \n",
       "278515  GTTGGCAGAGCAGTTGTCCTGGATGGCGGAGCCTTGGGTTCCGGGG...   \n",
       "278516  GTTGGCAGAGCAGTTGTCCTGGATGGCGGAGCCTTGGGTTCCGGGG...   \n",
       "\n",
       "                                                      CDS  \\\n",
       "0       ATGTCCATGCTCGTGGTCTTTCTCTTGCTGTGGGGTGTCACCTGGG...   \n",
       "1       ATGTCCATGCTCGTGGTCTTTCTCTTGCTGTGGGGTGTCACCTGGG...   \n",
       "2       ATGTCCATGCTCGTGGTCTTTCTCTTGCTGTGGGGTGTCACCTGGG...   \n",
       "3       ATGTCCATGCTCGTGGTCTTTCTCTTGCTGTGGGGTGTCACCTGGG...   \n",
       "4       ATGTCCATGCTCGTGGTCTTTCTCTTGCTGTGGGGTGTCACCTGGG...   \n",
       "...                                                   ...   \n",
       "278512  ATGGCTGCTTCCCGATCTACTCGTGTTACAAGATCAACAGTGGGGT...   \n",
       "278513  ATGGCTGCTTCCCGATCTACTCGTGTTACAAGATCAACAGTGGGGT...   \n",
       "278514  ATGGCTGCTTCCCGATCTACTCGTGTTACAAGATCAACAGTGGGGT...   \n",
       "278515  ATGGCTGCTTCCCGATCTACTCGTGTTACAAGATCAACAGTGGGGT...   \n",
       "278516  ATGGCTGCTTCCCGATCTACTCGTGTTACAAGATCAACAGTGGGGT...   \n",
       "\n",
       "                                                    3'UTR  \n",
       "0       TGATGCAGCCGCGGGCCCAGGGTGCTGTTGGTGTCCTCAGAAGTGC...  \n",
       "1       TGATGCAGCCGCGGGCCCAGGGTGCTGTTGGTGTCCTCAGAAGTGC...  \n",
       "2       TGATGCAGCCGCGGGCCCAGGGTGCTGTTGGTGTCCTCAGAAGTGC...  \n",
       "3       TGATGCAGCCGCGGGCCCAGGGTGCTGTTGGTGTCCTCAGAAGTGC...  \n",
       "4       TGATGCAGCCGCGGGCCCAGGGTGCTGTTGGTGTCCTCAGAAGTGC...  \n",
       "...                                                   ...  \n",
       "278512  TGACATGGAAGAGAACATCATTTACTAGTCCTCTTCAACACATAGC...  \n",
       "278513  TGACATGGAAGAGAACATCATTTACTAGTCCTCTTCAACACATAGC...  \n",
       "278514  TGACATGGAAGAGAACATCATTTACTAGTCCTCTTCAACACATAGC...  \n",
       "278515  TGACATGGAAGAGAACATCATTTACTAGTCCTCTTCAACACATAGC...  \n",
       "278516  TGACATGGAAGAGAACATCATTTACTAGTCCTCTTCAACACATAGC...  \n",
       "\n",
       "[278517 rows x 18 columns]"
      ]
     },
     "execution_count": 5,
     "metadata": {},
     "output_type": "execute_result"
    }
   ],
   "source": [
    "mane_gene_feature_df"
   ]
  },
  {
   "cell_type": "code",
   "execution_count": 6,
   "metadata": {},
   "outputs": [
    {
     "data": {
      "text/html": [
       "<div>\n",
       "<style scoped>\n",
       "    .dataframe tbody tr th:only-of-type {\n",
       "        vertical-align: middle;\n",
       "    }\n",
       "\n",
       "    .dataframe tbody tr th {\n",
       "        vertical-align: top;\n",
       "    }\n",
       "\n",
       "    .dataframe thead th {\n",
       "        text-align: right;\n",
       "    }\n",
       "</style>\n",
       "<table border=\"1\" class=\"dataframe\">\n",
       "  <thead>\n",
       "    <tr style=\"text-align: right;\">\n",
       "      <th></th>\n",
       "      <th>name</th>\n",
       "      <th>Chr</th>\n",
       "      <th>Start</th>\n",
       "      <th>End</th>\n",
       "      <th>Strand</th>\n",
       "      <th>Length</th>\n",
       "      <th>IP/input</th>\n",
       "      <th>kmers</th>\n",
       "      <th>Site</th>\n",
       "    </tr>\n",
       "  </thead>\n",
       "  <tbody>\n",
       "    <tr>\n",
       "      <th>0</th>\n",
       "      <td>shMETTL14-1</td>\n",
       "      <td>chr1</td>\n",
       "      <td>956940</td>\n",
       "      <td>957150</td>\n",
       "      <td>+</td>\n",
       "      <td>211</td>\n",
       "      <td>1.740766</td>\n",
       "      <td>ACAGAATTCTTCTTCCCCTTCAGCCCTCTGGGG6CTCTGTCCCCAT...</td>\n",
       "      <td>[957060, 956971]</td>\n",
       "    </tr>\n",
       "    <tr>\n",
       "      <th>1</th>\n",
       "      <td>shMETTL14-1</td>\n",
       "      <td>chr1</td>\n",
       "      <td>1100557</td>\n",
       "      <td>1100762</td>\n",
       "      <td>+</td>\n",
       "      <td>206</td>\n",
       "      <td>1.187554</td>\n",
       "      <td>GGTGCTGAGCTTTGGCAAGTGTATAATG6CACTATCGTTGGATTTC...</td>\n",
       "      <td>[1100583]</td>\n",
       "    </tr>\n",
       "    <tr>\n",
       "      <th>2</th>\n",
       "      <td>shMETTL14-1</td>\n",
       "      <td>chr1</td>\n",
       "      <td>1228322</td>\n",
       "      <td>1228533</td>\n",
       "      <td>+</td>\n",
       "      <td>212</td>\n",
       "      <td>2.995449</td>\n",
       "      <td>AAGTGGCGCTCATCACCGGCACGTCTTCCCAGCCCGGCAGGTCCCG...</td>\n",
       "      <td>[1228409, 1228431, 1228478]</td>\n",
       "    </tr>\n",
       "    <tr>\n",
       "      <th>3</th>\n",
       "      <td>shMETTL14-1</td>\n",
       "      <td>chr1</td>\n",
       "      <td>1312747</td>\n",
       "      <td>1312951</td>\n",
       "      <td>+</td>\n",
       "      <td>205</td>\n",
       "      <td>2.615706</td>\n",
       "      <td>GACCCGAGGTGGGCCCCACGCCGCCCGCCCGGCTGCCTACGGAGCT...</td>\n",
       "      <td>[1312815, 1312917, 1312940]</td>\n",
       "    </tr>\n",
       "    <tr>\n",
       "      <th>4</th>\n",
       "      <td>shMETTL14-1</td>\n",
       "      <td>chr1</td>\n",
       "      <td>1386979</td>\n",
       "      <td>1387414</td>\n",
       "      <td>+</td>\n",
       "      <td>436</td>\n",
       "      <td>1.757797</td>\n",
       "      <td>GCTGAGCCCTGCACGGGCCCAGGTGTGCGCCGCACCCCAG6CCGGT...</td>\n",
       "      <td>[1387085, 1387017, 1387397, 1387113, 1387375, ...</td>\n",
       "    </tr>\n",
       "    <tr>\n",
       "      <th>...</th>\n",
       "      <td>...</td>\n",
       "      <td>...</td>\n",
       "      <td>...</td>\n",
       "      <td>...</td>\n",
       "      <td>...</td>\n",
       "      <td>...</td>\n",
       "      <td>...</td>\n",
       "      <td>...</td>\n",
       "      <td>...</td>\n",
       "    </tr>\n",
       "    <tr>\n",
       "      <th>35024</th>\n",
       "      <td>shNC-2</td>\n",
       "      <td>chr6</td>\n",
       "      <td>152612016</td>\n",
       "      <td>152612321</td>\n",
       "      <td>-</td>\n",
       "      <td>306</td>\n",
       "      <td>4.408457</td>\n",
       "      <td>TGGTGATATCCCCTTTATCATTTTTTATTGCATCTGTTTGATTCTT...</td>\n",
       "      <td>[152612122]</td>\n",
       "    </tr>\n",
       "    <tr>\n",
       "      <th>35025</th>\n",
       "      <td>shNC-2</td>\n",
       "      <td>chr6</td>\n",
       "      <td>154832613</td>\n",
       "      <td>154833460</td>\n",
       "      <td>-</td>\n",
       "      <td>848</td>\n",
       "      <td>3.060483</td>\n",
       "      <td>AGCCATTATCTATTACAGAGAGATG6CAACTTTACAAAAGGTATCT...</td>\n",
       "      <td>[154832908, 154833440, 154833119, 154833166, 1...</td>\n",
       "    </tr>\n",
       "    <tr>\n",
       "      <th>35026</th>\n",
       "      <td>shNC-2</td>\n",
       "      <td>chr6</td>\n",
       "      <td>154833725</td>\n",
       "      <td>154833945</td>\n",
       "      <td>-</td>\n",
       "      <td>221</td>\n",
       "      <td>48.919655</td>\n",
       "      <td>GGA6CAAATCACAA6CACTTACTTTGGAGAA6CAGAG6CCGTAGTG...</td>\n",
       "      <td>[154833737, 154833754, 154833760, 154833726, 1...</td>\n",
       "    </tr>\n",
       "    <tr>\n",
       "      <th>35027</th>\n",
       "      <td>shNC-2</td>\n",
       "      <td>chr6</td>\n",
       "      <td>156778066</td>\n",
       "      <td>156778307</td>\n",
       "      <td>-</td>\n",
       "      <td>242</td>\n",
       "      <td>7.415899</td>\n",
       "      <td>CTGCTGCTGCTGCTGTTGCTGCTGCTGCTGCTGCTGCTGGA6CTGG...</td>\n",
       "      <td>[156778105]</td>\n",
       "    </tr>\n",
       "    <tr>\n",
       "      <th>35028</th>\n",
       "      <td>shNC-2</td>\n",
       "      <td>chr6</td>\n",
       "      <td>157200929</td>\n",
       "      <td>157201167</td>\n",
       "      <td>-</td>\n",
       "      <td>239</td>\n",
       "      <td>3.575523</td>\n",
       "      <td>ACGACATATAAGGCTGACGCTGGCTGACGTGAGAAGGCCACTGGCT...</td>\n",
       "      <td>[]</td>\n",
       "    </tr>\n",
       "  </tbody>\n",
       "</table>\n",
       "<p>35029 rows × 9 columns</p>\n",
       "</div>"
      ],
      "text/plain": [
       "              name   Chr      Start        End Strand  Length   IP/input  \\\n",
       "0      shMETTL14-1  chr1     956940     957150      +     211   1.740766   \n",
       "1      shMETTL14-1  chr1    1100557    1100762      +     206   1.187554   \n",
       "2      shMETTL14-1  chr1    1228322    1228533      +     212   2.995449   \n",
       "3      shMETTL14-1  chr1    1312747    1312951      +     205   2.615706   \n",
       "4      shMETTL14-1  chr1    1386979    1387414      +     436   1.757797   \n",
       "...            ...   ...        ...        ...    ...     ...        ...   \n",
       "35024       shNC-2  chr6  152612016  152612321      -     306   4.408457   \n",
       "35025       shNC-2  chr6  154832613  154833460      -     848   3.060483   \n",
       "35026       shNC-2  chr6  154833725  154833945      -     221  48.919655   \n",
       "35027       shNC-2  chr6  156778066  156778307      -     242   7.415899   \n",
       "35028       shNC-2  chr6  157200929  157201167      -     239   3.575523   \n",
       "\n",
       "                                                   kmers  \\\n",
       "0      ACAGAATTCTTCTTCCCCTTCAGCCCTCTGGGG6CTCTGTCCCCAT...   \n",
       "1      GGTGCTGAGCTTTGGCAAGTGTATAATG6CACTATCGTTGGATTTC...   \n",
       "2      AAGTGGCGCTCATCACCGGCACGTCTTCCCAGCCCGGCAGGTCCCG...   \n",
       "3      GACCCGAGGTGGGCCCCACGCCGCCCGCCCGGCTGCCTACGGAGCT...   \n",
       "4      GCTGAGCCCTGCACGGGCCCAGGTGTGCGCCGCACCCCAG6CCGGT...   \n",
       "...                                                  ...   \n",
       "35024  TGGTGATATCCCCTTTATCATTTTTTATTGCATCTGTTTGATTCTT...   \n",
       "35025  AGCCATTATCTATTACAGAGAGATG6CAACTTTACAAAAGGTATCT...   \n",
       "35026  GGA6CAAATCACAA6CACTTACTTTGGAGAA6CAGAG6CCGTAGTG...   \n",
       "35027  CTGCTGCTGCTGCTGTTGCTGCTGCTGCTGCTGCTGCTGGA6CTGG...   \n",
       "35028  ACGACATATAAGGCTGACGCTGGCTGACGTGAGAAGGCCACTGGCT...   \n",
       "\n",
       "                                                    Site  \n",
       "0                                       [957060, 956971]  \n",
       "1                                              [1100583]  \n",
       "2                            [1228409, 1228431, 1228478]  \n",
       "3                            [1312815, 1312917, 1312940]  \n",
       "4      [1387085, 1387017, 1387397, 1387113, 1387375, ...  \n",
       "...                                                  ...  \n",
       "35024                                        [152612122]  \n",
       "35025  [154832908, 154833440, 154833119, 154833166, 1...  \n",
       "35026  [154833737, 154833754, 154833760, 154833726, 1...  \n",
       "35027                                        [156778105]  \n",
       "35028                                                 []  \n",
       "\n",
       "[35029 rows x 9 columns]"
      ]
     },
     "execution_count": 6,
     "metadata": {},
     "output_type": "execute_result"
    }
   ],
   "source": [
    "m6a_merged_cpm_df"
   ]
  },
  {
   "cell_type": "markdown",
   "metadata": {},
   "source": [
    "#### 根据mane gene数据对gene_exon_fpkm数据进行提取合并"
   ]
  },
  {
   "cell_type": "code",
   "execution_count": 7,
   "metadata": {},
   "outputs": [],
   "source": [
    "# 只选择需要的列进行merge\n",
    "mane_gene_feature_df_subset = mane_gene_feature_df[[\"Gene\", \"Chr\", \"Strand\", \"Stitched_mRNA_sequence\", \"5'UTR\", \"CDS\", \"3'UTR\"]]\n",
    "\n",
    "# 按行去重\n",
    "mane_gene_feature_df_subset = mane_gene_feature_df_subset.drop_duplicates()\n",
    "\n",
    "# 进行合并操作，保留gene_exon_fpkm_df中的所有行\n",
    "merge_rna_mane_gene = gene_exon_fpkm_df.merge(mane_gene_feature_df_subset, on=[\"Gene\", \"Chr\", \"Strand\"], how=\"left\")\n",
    "\n",
    "# 删除没有匹配到的行（即包含NaN值的行）\n",
    "merge_rna_mane_gene = merge_rna_mane_gene.dropna(subset=[\"Stitched_mRNA_sequence\", \"5'UTR\", \"CDS\", \"3'UTR\"])"
   ]
  },
  {
   "cell_type": "code",
   "execution_count": 8,
   "metadata": {},
   "outputs": [],
   "source": [
    "merge_rna_mane_gene.to_csv(\"./data/merge_rna_mane_gene.csv\")"
   ]
  },
  {
   "cell_type": "code",
   "execution_count": null,
   "metadata": {},
   "outputs": [],
   "source": [
    "merge_rna_mane_gene"
   ]
  },
  {
   "cell_type": "markdown",
   "metadata": {},
   "source": [
    "#### 根据mane gene数据对m6a_merged_cpm_df进行提取合并"
   ]
  },
  {
   "cell_type": "code",
   "execution_count": 9,
   "metadata": {},
   "outputs": [],
   "source": [
    "# 初始化新的列\n",
    "m6a_merged_cpm_df[\"Gene\"] = None\n",
    "m6a_merged_cpm_df[\"m6a_position\"] = None\n",
    "\n",
    "# 将Site列的字符串转为列表\n",
    "m6a_merged_cpm_df['Site'] = m6a_merged_cpm_df['Site'].apply(eval)"
   ]
  },
  {
   "cell_type": "code",
   "execution_count": 10,
   "metadata": {},
   "outputs": [
    {
     "name": "stderr",
     "output_type": "stream",
     "text": [
      "229it [03:46,  1.33it/s]"
     ]
    },
    {
     "name": "stdout",
     "output_type": "stream",
     "text": [
      "169853502 is match\n",
      "169853461 is match\n",
      "169853370 is match\n"
     ]
    },
    {
     "name": "stderr",
     "output_type": "stream",
     "text": [
      "370it [06:21,  1.04it/s]"
     ]
    },
    {
     "name": "stdout",
     "output_type": "stream",
     "text": [
      "244842040 is match\n"
     ]
    },
    {
     "name": "stderr",
     "output_type": "stream",
     "text": [
      "505it [07:25,  4.35it/s]"
     ]
    },
    {
     "name": "stdout",
     "output_type": "stream",
     "text": [
      "95873406 is match\n",
      "95874039 is match\n",
      "95874093 is match\n",
      "95874180 is match\n",
      "95874029 is match\n",
      "95874146 is match\n",
      "95874130 is match\n"
     ]
    },
    {
     "name": "stderr",
     "output_type": "stream",
     "text": [
      "506it [07:25,  4.47it/s]"
     ]
    },
    {
     "name": "stdout",
     "output_type": "stream",
     "text": [
      "95875218 is match\n",
      "95875369 is match\n",
      "95875507 is match\n",
      "95875426 is match\n",
      "95875441 is match\n",
      "95875232 is match\n",
      "95875374 is match\n"
     ]
    },
    {
     "name": "stderr",
     "output_type": "stream",
     "text": [
      "588it [08:00,  2.02it/s]"
     ]
    },
    {
     "name": "stdout",
     "output_type": "stream",
     "text": [
      "6497784 is match\n"
     ]
    },
    {
     "name": "stderr",
     "output_type": "stream",
     "text": [
      "589it [08:01,  2.12it/s]"
     ]
    },
    {
     "name": "stdout",
     "output_type": "stream",
     "text": [
      "6497877 is match\n",
      "6497852 is match\n",
      "6497828 is match\n"
     ]
    },
    {
     "name": "stderr",
     "output_type": "stream",
     "text": [
      "610it [08:11,  1.96it/s]"
     ]
    },
    {
     "name": "stdout",
     "output_type": "stream",
     "text": [
      "19713245 is match\n",
      "19713162 is match\n",
      "19713266 is match\n"
     ]
    },
    {
     "name": "stderr",
     "output_type": "stream",
     "text": [
      "611it [08:11,  2.24it/s]"
     ]
    },
    {
     "name": "stdout",
     "output_type": "stream",
     "text": [
      "19713106 is match\n"
     ]
    },
    {
     "name": "stderr",
     "output_type": "stream",
     "text": [
      "623it [08:18,  2.03it/s]"
     ]
    },
    {
     "name": "stdout",
     "output_type": "stream",
     "text": [
      "47573380 is match\n",
      "47573442 is match\n"
     ]
    },
    {
     "name": "stderr",
     "output_type": "stream",
     "text": [
      "663it [08:42,  2.16it/s]"
     ]
    },
    {
     "name": "stdout",
     "output_type": "stream",
     "text": [
      "62790385 is match\n",
      "62790398 is match\n"
     ]
    },
    {
     "name": "stderr",
     "output_type": "stream",
     "text": [
      "664it [08:42,  1.95it/s]"
     ]
    },
    {
     "name": "stdout",
     "output_type": "stream",
     "text": [
      "62790353 is match\n"
     ]
    },
    {
     "name": "stderr",
     "output_type": "stream",
     "text": [
      "764it [09:35,  1.67it/s]"
     ]
    },
    {
     "name": "stdout",
     "output_type": "stream",
     "text": [
      "112085148 is match\n"
     ]
    },
    {
     "name": "stderr",
     "output_type": "stream",
     "text": [
      "767it [09:37,  1.20it/s]"
     ]
    },
    {
     "name": "stdout",
     "output_type": "stream",
     "text": [
      "117285868 is match\n",
      "117285804 is match\n",
      "117285812 is match\n"
     ]
    },
    {
     "name": "stderr",
     "output_type": "stream",
     "text": [
      "768it [09:38,  1.41it/s]"
     ]
    },
    {
     "name": "stdout",
     "output_type": "stream",
     "text": [
      "117285950 is match\n"
     ]
    },
    {
     "name": "stderr",
     "output_type": "stream",
     "text": [
      "907it [10:45,  2.15it/s]"
     ]
    },
    {
     "name": "stdout",
     "output_type": "stream",
     "text": [
      "75501657 is match\n",
      "75501905 is match\n",
      "75501696 is match\n",
      "75501618 is match\n",
      "75501882 is match\n"
     ]
    },
    {
     "name": "stderr",
     "output_type": "stream",
     "text": [
      "908it [10:45,  2.23it/s]"
     ]
    },
    {
     "name": "stdout",
     "output_type": "stream",
     "text": [
      "75503846 is match\n"
     ]
    },
    {
     "name": "stderr",
     "output_type": "stream",
     "text": [
      "1028it [11:50,  2.05it/s]"
     ]
    },
    {
     "name": "stdout",
     "output_type": "stream",
     "text": [
      "123932060 is match\n"
     ]
    },
    {
     "name": "stderr",
     "output_type": "stream",
     "text": [
      "1029it [11:50,  2.13it/s]"
     ]
    },
    {
     "name": "stdout",
     "output_type": "stream",
     "text": [
      "123932039 is match\n"
     ]
    },
    {
     "name": "stderr",
     "output_type": "stream",
     "text": [
      "1123it [12:16,  6.67it/s]"
     ]
    },
    {
     "name": "stdout",
     "output_type": "stream",
     "text": [
      "93227155 is match\n",
      "93227134 is match\n",
      "93227115 is match\n"
     ]
    },
    {
     "name": "stderr",
     "output_type": "stream",
     "text": [
      "1171it [12:26,  5.49it/s]"
     ]
    },
    {
     "name": "stdout",
     "output_type": "stream",
     "text": [
      "31025762 is match\n",
      "31025738 is match\n"
     ]
    },
    {
     "name": "stderr",
     "output_type": "stream",
     "text": [
      "1197it [12:35,  2.60it/s]"
     ]
    },
    {
     "name": "stdout",
     "output_type": "stream",
     "text": [
      "49785076 is match\n",
      "49784980 is match\n",
      "49785050 is match\n"
     ]
    },
    {
     "name": "stderr",
     "output_type": "stream",
     "text": [
      "1476it [13:57,  5.64it/s]"
     ]
    },
    {
     "name": "stdout",
     "output_type": "stream",
     "text": [
      "78590380 is match\n",
      "78590191 is match\n",
      "78590362 is match\n",
      "78590266 is match\n"
     ]
    },
    {
     "name": "stderr",
     "output_type": "stream",
     "text": [
      "1496it [14:03,  4.14it/s]"
     ]
    },
    {
     "name": "stdout",
     "output_type": "stream",
     "text": [
      "1349314 is match\n",
      "1349320 is match\n"
     ]
    },
    {
     "name": "stderr",
     "output_type": "stream",
     "text": [
      "1520it [14:13,  2.80it/s]"
     ]
    },
    {
     "name": "stdout",
     "output_type": "stream",
     "text": [
      "5085168 is match\n",
      "5084996 is match\n",
      "5085035 is match\n",
      "5085157 is match\n",
      "5085146 is match\n"
     ]
    },
    {
     "name": "stderr",
     "output_type": "stream",
     "text": [
      "1525it [14:16,  1.89it/s]"
     ]
    },
    {
     "name": "stdout",
     "output_type": "stream",
     "text": [
      "10929346 is match\n",
      "10929187 is match\n",
      "10929325 is match\n",
      "10929398 is match\n"
     ]
    },
    {
     "name": "stderr",
     "output_type": "stream",
     "text": [
      "1540it [14:21,  2.39it/s]"
     ]
    },
    {
     "name": "stdout",
     "output_type": "stream",
     "text": [
      "19114508 is match\n"
     ]
    },
    {
     "name": "stderr",
     "output_type": "stream",
     "text": [
      "1722it [15:36,  2.79it/s]"
     ]
    },
    {
     "name": "stdout",
     "output_type": "stream",
     "text": [
      "28398110 is match\n",
      "28398126 is match\n",
      "28398138 is match\n"
     ]
    },
    {
     "name": "stderr",
     "output_type": "stream",
     "text": [
      "1723it [15:37,  2.42it/s]"
     ]
    },
    {
     "name": "stdout",
     "output_type": "stream",
     "text": [
      "28398092 is match\n",
      "28398022 is match\n",
      "28398309 is match\n"
     ]
    },
    {
     "name": "stderr",
     "output_type": "stream",
     "text": [
      "1827it [16:36,  1.32it/s]"
     ]
    },
    {
     "name": "stdout",
     "output_type": "stream",
     "text": [
      "73208419 is match\n",
      "73208371 is match\n",
      "73208391 is match\n",
      "73208449 is match\n",
      "73208343 is match\n"
     ]
    },
    {
     "name": "stderr",
     "output_type": "stream",
     "text": [
      "1828it [16:37,  1.07it/s]"
     ]
    },
    {
     "name": "stdout",
     "output_type": "stream",
     "text": [
      "73208441 is match\n"
     ]
    },
    {
     "name": "stderr",
     "output_type": "stream",
     "text": [
      "2154it [19:04,  1.88it/s]\n"
     ]
    },
    {
     "ename": "KeyboardInterrupt",
     "evalue": "",
     "output_type": "error",
     "traceback": [
      "\u001b[0;31m---------------------------------------------------------------------------\u001b[0m",
      "\u001b[0;31mKeyboardInterrupt\u001b[0m                         Traceback (most recent call last)",
      "Cell \u001b[0;32mIn[10], line 13\u001b[0m\n\u001b[1;32m      6\u001b[0m match \u001b[38;5;241m=\u001b[39m mane_gene_feature_df[\n\u001b[1;32m      7\u001b[0m     (mane_gene_feature_df[\u001b[38;5;124m'\u001b[39m\u001b[38;5;124mChr\u001b[39m\u001b[38;5;124m'\u001b[39m] \u001b[38;5;241m==\u001b[39m row[\u001b[38;5;124m'\u001b[39m\u001b[38;5;124mChr\u001b[39m\u001b[38;5;124m'\u001b[39m]) \u001b[38;5;241m&\u001b[39m\n\u001b[1;32m      8\u001b[0m     (mane_gene_feature_df[\u001b[38;5;124m'\u001b[39m\u001b[38;5;124mStrand\u001b[39m\u001b[38;5;124m'\u001b[39m] \u001b[38;5;241m==\u001b[39m row[\u001b[38;5;124m'\u001b[39m\u001b[38;5;124mStrand\u001b[39m\u001b[38;5;124m'\u001b[39m])\n\u001b[1;32m      9\u001b[0m ]\n\u001b[1;32m     11\u001b[0m \u001b[38;5;28;01mfor\u001b[39;00m site \u001b[38;5;129;01min\u001b[39;00m row[\u001b[38;5;124m'\u001b[39m\u001b[38;5;124mSite\u001b[39m\u001b[38;5;124m'\u001b[39m]:\n\u001b[0;32m---> 13\u001b[0m     \u001b[38;5;28;01mfor\u001b[39;00m _, gene_row \u001b[38;5;129;01min\u001b[39;00m match\u001b[38;5;241m.\u001b[39miterrows():\n\u001b[1;32m     14\u001b[0m         gene_start \u001b[38;5;241m=\u001b[39m gene_row[\u001b[38;5;124m'\u001b[39m\u001b[38;5;124mStart\u001b[39m\u001b[38;5;124m'\u001b[39m]\n\u001b[1;32m     15\u001b[0m         gene_end \u001b[38;5;241m=\u001b[39m gene_row[\u001b[38;5;124m'\u001b[39m\u001b[38;5;124mEnd\u001b[39m\u001b[38;5;124m'\u001b[39m]\n",
      "File \u001b[0;32m~/miniconda3/envs/dna/lib/python3.10/site-packages/pandas/core/frame.py:1554\u001b[0m, in \u001b[0;36mDataFrame.iterrows\u001b[0;34m(self)\u001b[0m\n\u001b[1;32m   1552\u001b[0m using_cow \u001b[38;5;241m=\u001b[39m using_copy_on_write()\n\u001b[1;32m   1553\u001b[0m \u001b[38;5;28;01mfor\u001b[39;00m k, v \u001b[38;5;129;01min\u001b[39;00m \u001b[38;5;28mzip\u001b[39m(\u001b[38;5;28mself\u001b[39m\u001b[38;5;241m.\u001b[39mindex, \u001b[38;5;28mself\u001b[39m\u001b[38;5;241m.\u001b[39mvalues):\n\u001b[0;32m-> 1554\u001b[0m     s \u001b[38;5;241m=\u001b[39m \u001b[43mklass\u001b[49m\u001b[43m(\u001b[49m\u001b[43mv\u001b[49m\u001b[43m,\u001b[49m\u001b[43m \u001b[49m\u001b[43mindex\u001b[49m\u001b[38;5;241;43m=\u001b[39;49m\u001b[43mcolumns\u001b[49m\u001b[43m,\u001b[49m\u001b[43m \u001b[49m\u001b[43mname\u001b[49m\u001b[38;5;241;43m=\u001b[39;49m\u001b[43mk\u001b[49m\u001b[43m)\u001b[49m\u001b[38;5;241m.\u001b[39m__finalize__(\u001b[38;5;28mself\u001b[39m)\n\u001b[1;32m   1555\u001b[0m     \u001b[38;5;28;01mif\u001b[39;00m using_cow \u001b[38;5;129;01mand\u001b[39;00m \u001b[38;5;28mself\u001b[39m\u001b[38;5;241m.\u001b[39m_mgr\u001b[38;5;241m.\u001b[39mis_single_block:\n\u001b[1;32m   1556\u001b[0m         s\u001b[38;5;241m.\u001b[39m_mgr\u001b[38;5;241m.\u001b[39madd_references(\u001b[38;5;28mself\u001b[39m\u001b[38;5;241m.\u001b[39m_mgr)  \u001b[38;5;66;03m# type: ignore[arg-type]\u001b[39;00m\n",
      "File \u001b[0;32m~/miniconda3/envs/dna/lib/python3.10/site-packages/pandas/core/series.py:584\u001b[0m, in \u001b[0;36mSeries.__init__\u001b[0;34m(self, data, index, dtype, name, copy, fastpath)\u001b[0m\n\u001b[1;32m    582\u001b[0m         data \u001b[38;5;241m=\u001b[39m data\u001b[38;5;241m.\u001b[39mcopy()\n\u001b[1;32m    583\u001b[0m \u001b[38;5;28;01melse\u001b[39;00m:\n\u001b[0;32m--> 584\u001b[0m     data \u001b[38;5;241m=\u001b[39m \u001b[43msanitize_array\u001b[49m\u001b[43m(\u001b[49m\u001b[43mdata\u001b[49m\u001b[43m,\u001b[49m\u001b[43m \u001b[49m\u001b[43mindex\u001b[49m\u001b[43m,\u001b[49m\u001b[43m \u001b[49m\u001b[43mdtype\u001b[49m\u001b[43m,\u001b[49m\u001b[43m \u001b[49m\u001b[43mcopy\u001b[49m\u001b[43m)\u001b[49m\n\u001b[1;32m    586\u001b[0m     manager \u001b[38;5;241m=\u001b[39m _get_option(\u001b[38;5;124m\"\u001b[39m\u001b[38;5;124mmode.data_manager\u001b[39m\u001b[38;5;124m\"\u001b[39m, silent\u001b[38;5;241m=\u001b[39m\u001b[38;5;28;01mTrue\u001b[39;00m)\n\u001b[1;32m    587\u001b[0m     \u001b[38;5;28;01mif\u001b[39;00m manager \u001b[38;5;241m==\u001b[39m \u001b[38;5;124m\"\u001b[39m\u001b[38;5;124mblock\u001b[39m\u001b[38;5;124m\"\u001b[39m:\n",
      "File \u001b[0;32m~/miniconda3/envs/dna/lib/python3.10/site-packages/pandas/core/construction.py:606\u001b[0m, in \u001b[0;36msanitize_array\u001b[0;34m(data, index, dtype, copy, allow_2d)\u001b[0m\n\u001b[1;32m    604\u001b[0m subarr \u001b[38;5;241m=\u001b[39m data\n\u001b[1;32m    605\u001b[0m \u001b[38;5;28;01mif\u001b[39;00m data\u001b[38;5;241m.\u001b[39mdtype \u001b[38;5;241m==\u001b[39m \u001b[38;5;28mobject\u001b[39m:\n\u001b[0;32m--> 606\u001b[0m     subarr \u001b[38;5;241m=\u001b[39m \u001b[43mmaybe_infer_to_datetimelike\u001b[49m\u001b[43m(\u001b[49m\u001b[43mdata\u001b[49m\u001b[43m)\u001b[49m\n\u001b[1;32m    607\u001b[0m     \u001b[38;5;28;01mif\u001b[39;00m (\n\u001b[1;32m    608\u001b[0m         object_index\n\u001b[1;32m    609\u001b[0m         \u001b[38;5;129;01mand\u001b[39;00m using_pyarrow_string_dtype()\n\u001b[1;32m    610\u001b[0m         \u001b[38;5;129;01mand\u001b[39;00m is_string_dtype(subarr)\n\u001b[1;32m    611\u001b[0m     ):\n\u001b[1;32m    612\u001b[0m         \u001b[38;5;66;03m# Avoid inference when string option is set\u001b[39;00m\n\u001b[1;32m    613\u001b[0m         subarr \u001b[38;5;241m=\u001b[39m data\n",
      "File \u001b[0;32m~/miniconda3/envs/dna/lib/python3.10/site-packages/pandas/core/dtypes/cast.py:1190\u001b[0m, in \u001b[0;36mmaybe_infer_to_datetimelike\u001b[0;34m(value)\u001b[0m\n\u001b[1;32m   1185\u001b[0m     \u001b[38;5;28;01mreturn\u001b[39;00m value\n\u001b[1;32m   1187\u001b[0m \u001b[38;5;66;03m# error: Incompatible return value type (got \"Union[ExtensionArray,\u001b[39;00m\n\u001b[1;32m   1188\u001b[0m \u001b[38;5;66;03m# ndarray[Any, Any]]\", expected \"Union[ndarray[Any, Any], DatetimeArray,\u001b[39;00m\n\u001b[1;32m   1189\u001b[0m \u001b[38;5;66;03m# TimedeltaArray, PeriodArray, IntervalArray]\")\u001b[39;00m\n\u001b[0;32m-> 1190\u001b[0m \u001b[38;5;28;01mreturn\u001b[39;00m \u001b[43mlib\u001b[49m\u001b[38;5;241;43m.\u001b[39;49m\u001b[43mmaybe_convert_objects\u001b[49m\u001b[43m(\u001b[49m\u001b[43m  \u001b[49m\u001b[38;5;66;43;03m# type: ignore[return-value]\u001b[39;49;00m\n\u001b[1;32m   1191\u001b[0m \u001b[43m    \u001b[49m\u001b[43mvalue\u001b[49m\u001b[43m,\u001b[49m\n\u001b[1;32m   1192\u001b[0m \u001b[43m    \u001b[49m\u001b[38;5;66;43;03m# Here we do not convert numeric dtypes, as if we wanted that,\u001b[39;49;00m\n\u001b[1;32m   1193\u001b[0m \u001b[43m    \u001b[49m\u001b[38;5;66;43;03m#  numpy would have done it for us.\u001b[39;49;00m\n\u001b[1;32m   1194\u001b[0m \u001b[43m    \u001b[49m\u001b[43mconvert_numeric\u001b[49m\u001b[38;5;241;43m=\u001b[39;49m\u001b[38;5;28;43;01mFalse\u001b[39;49;00m\u001b[43m,\u001b[49m\n\u001b[1;32m   1195\u001b[0m \u001b[43m    \u001b[49m\u001b[43mconvert_non_numeric\u001b[49m\u001b[38;5;241;43m=\u001b[39;49m\u001b[38;5;28;43;01mTrue\u001b[39;49;00m\u001b[43m,\u001b[49m\n\u001b[1;32m   1196\u001b[0m \u001b[43m    \u001b[49m\u001b[43mdtype_if_all_nat\u001b[49m\u001b[38;5;241;43m=\u001b[39;49m\u001b[43mnp\u001b[49m\u001b[38;5;241;43m.\u001b[39;49m\u001b[43mdtype\u001b[49m\u001b[43m(\u001b[49m\u001b[38;5;124;43m\"\u001b[39;49m\u001b[38;5;124;43mM8[ns]\u001b[39;49m\u001b[38;5;124;43m\"\u001b[39;49m\u001b[43m)\u001b[49m\u001b[43m,\u001b[49m\n\u001b[1;32m   1197\u001b[0m \u001b[43m\u001b[49m\u001b[43m)\u001b[49m\n",
      "File \u001b[0;32mlib.pyx:2543\u001b[0m, in \u001b[0;36mpandas._libs.lib.maybe_convert_objects\u001b[0;34m()\u001b[0m\n",
      "File \u001b[0;32m~/miniconda3/envs/dna/lib/python3.10/site-packages/numpy/core/numeric.py:330\u001b[0m, in \u001b[0;36mfull\u001b[0;34m(shape, fill_value, dtype, order, like)\u001b[0m\n\u001b[1;32m    328\u001b[0m     dtype \u001b[38;5;241m=\u001b[39m fill_value\u001b[38;5;241m.\u001b[39mdtype\n\u001b[1;32m    329\u001b[0m a \u001b[38;5;241m=\u001b[39m empty(shape, dtype, order)\n\u001b[0;32m--> 330\u001b[0m \u001b[43mmultiarray\u001b[49m\u001b[38;5;241;43m.\u001b[39;49m\u001b[43mcopyto\u001b[49m\u001b[43m(\u001b[49m\u001b[43ma\u001b[49m\u001b[43m,\u001b[49m\u001b[43m \u001b[49m\u001b[43mfill_value\u001b[49m\u001b[43m,\u001b[49m\u001b[43m \u001b[49m\u001b[43mcasting\u001b[49m\u001b[38;5;241;43m=\u001b[39;49m\u001b[38;5;124;43m'\u001b[39;49m\u001b[38;5;124;43munsafe\u001b[39;49m\u001b[38;5;124;43m'\u001b[39;49m\u001b[43m)\u001b[49m\n\u001b[1;32m    331\u001b[0m \u001b[38;5;28;01mreturn\u001b[39;00m a\n",
      "File \u001b[0;32m~/miniconda3/envs/dna/lib/python3.10/site-packages/numpy/core/multiarray.py:1080\u001b[0m, in \u001b[0;36mcopyto\u001b[0;34m(dst, src, casting, where)\u001b[0m\n\u001b[1;32m   1032\u001b[0m \u001b[38;5;250m    \u001b[39m\u001b[38;5;124;03m\"\"\"\u001b[39;00m\n\u001b[1;32m   1033\u001b[0m \u001b[38;5;124;03m    unravel_index(indices, shape, order='C')\u001b[39;00m\n\u001b[1;32m   1034\u001b[0m \n\u001b[0;32m   (...)\u001b[0m\n\u001b[1;32m   1075\u001b[0m \n\u001b[1;32m   1076\u001b[0m \u001b[38;5;124;03m    \"\"\"\u001b[39;00m\n\u001b[1;32m   1077\u001b[0m     \u001b[38;5;28;01mreturn\u001b[39;00m (indices,)\n\u001b[0;32m-> 1080\u001b[0m \u001b[38;5;129m@array_function_from_c_func_and_dispatcher\u001b[39m(_multiarray_umath\u001b[38;5;241m.\u001b[39mcopyto)\n\u001b[1;32m   1081\u001b[0m \u001b[38;5;28;01mdef\u001b[39;00m \u001b[38;5;21mcopyto\u001b[39m(dst, src, casting\u001b[38;5;241m=\u001b[39m\u001b[38;5;28;01mNone\u001b[39;00m, where\u001b[38;5;241m=\u001b[39m\u001b[38;5;28;01mNone\u001b[39;00m):\n\u001b[1;32m   1082\u001b[0m \u001b[38;5;250m    \u001b[39m\u001b[38;5;124;03m\"\"\"\u001b[39;00m\n\u001b[1;32m   1083\u001b[0m \u001b[38;5;124;03m    copyto(dst, src, casting='same_kind', where=True)\u001b[39;00m\n\u001b[1;32m   1084\u001b[0m \n\u001b[0;32m   (...)\u001b[0m\n\u001b[1;32m   1126\u001b[0m \n\u001b[1;32m   1127\u001b[0m \u001b[38;5;124;03m    \"\"\"\u001b[39;00m\n\u001b[1;32m   1128\u001b[0m     \u001b[38;5;28;01mreturn\u001b[39;00m (dst, src, where)\n",
      "\u001b[0;31mKeyboardInterrupt\u001b[0m: "
     ]
    }
   ],
   "source": [
    "# 遍历m6a_merged_cpm_df\n",
    "for idx, row in tqdm(m6a_merged_cpm_df.iterrows()):\n",
    "    gene_matches = []\n",
    "    positions = []\n",
    "    \n",
    "    match = mane_gene_feature_df[\n",
    "        (mane_gene_feature_df['Chr'] == row['Chr']) &\n",
    "        (mane_gene_feature_df['Strand'] == row['Strand'])\n",
    "    ]\n",
    "\n",
    "    for site in row['Site']:\n",
    "\n",
    "        for _, gene_row in match.iterrows():\n",
    "            gene_start = gene_row['Start']\n",
    "            gene_end = gene_row['End']\n",
    "\n",
    "            if gene_start <= site <= gene_end:\n",
    "                print(f\"{site} is match\")\n",
    "                \n",
    "                gene_matches.append(gene_row['Gene'])\n",
    "                positions.append(site - gene_start)\n",
    "                break\n",
    "         \n",
    "                \n",
    "    if gene_matches:\n",
    "        m6a_merged_cpm_df.at[idx, 'Gene'] = gene_matches[0]\n",
    "        m6a_merged_cpm_df.at[idx, 'm6a_position'] = positions"
   ]
  },
  {
   "cell_type": "code",
   "execution_count": 14,
   "metadata": {},
   "outputs": [
    {
     "data": {
      "text/html": [
       "<div>\n",
       "<style scoped>\n",
       "    .dataframe tbody tr th:only-of-type {\n",
       "        vertical-align: middle;\n",
       "    }\n",
       "\n",
       "    .dataframe tbody tr th {\n",
       "        vertical-align: top;\n",
       "    }\n",
       "\n",
       "    .dataframe thead th {\n",
       "        text-align: right;\n",
       "    }\n",
       "</style>\n",
       "<table border=\"1\" class=\"dataframe\">\n",
       "  <thead>\n",
       "    <tr style=\"text-align: right;\">\n",
       "      <th></th>\n",
       "      <th>name</th>\n",
       "      <th>Chr</th>\n",
       "      <th>Start</th>\n",
       "      <th>End</th>\n",
       "      <th>Strand</th>\n",
       "      <th>Length</th>\n",
       "      <th>IP/input</th>\n",
       "      <th>kmers</th>\n",
       "      <th>Site</th>\n",
       "      <th>Gene</th>\n",
       "      <th>m6a_position</th>\n",
       "    </tr>\n",
       "  </thead>\n",
       "  <tbody>\n",
       "    <tr>\n",
       "      <th>34929</th>\n",
       "      <td>shNC-2</td>\n",
       "      <td>chr6</td>\n",
       "      <td>57147603</td>\n",
       "      <td>57147842</td>\n",
       "      <td>-</td>\n",
       "      <td>240</td>\n",
       "      <td>2.102651</td>\n",
       "      <td>GGCTTGTTAGCAGTCAAATTATCCAATGTTGTAGAGGATGATGGCA...</td>\n",
       "      <td>[57147979, 57148062]</td>\n",
       "      <td>None</td>\n",
       "      <td>None</td>\n",
       "    </tr>\n",
       "    <tr>\n",
       "      <th>34930</th>\n",
       "      <td>shNC-2</td>\n",
       "      <td>chr6</td>\n",
       "      <td>57148121</td>\n",
       "      <td>57148786</td>\n",
       "      <td>-</td>\n",
       "      <td>666</td>\n",
       "      <td>1.818664</td>\n",
       "      <td>ACCCTGTTTCTTGCTTCAAAATTGAATCGAGGTGGGTACATTGTAA...</td>\n",
       "      <td>[57149228, 57148926, 57148988, 57149217, 57149...</td>\n",
       "      <td>None</td>\n",
       "      <td>None</td>\n",
       "    </tr>\n",
       "    <tr>\n",
       "      <th>34931</th>\n",
       "      <td>shNC-2</td>\n",
       "      <td>chr6</td>\n",
       "      <td>57169858</td>\n",
       "      <td>57170107</td>\n",
       "      <td>-</td>\n",
       "      <td>250</td>\n",
       "      <td>1.656749</td>\n",
       "      <td>AACAGTCATGATGAAATATCCCTTTCCTGTCTTATCAGAAGCCTTA...</td>\n",
       "      <td>[57170274, 57170352]</td>\n",
       "      <td>None</td>\n",
       "      <td>None</td>\n",
       "    </tr>\n",
       "    <tr>\n",
       "      <th>34932</th>\n",
       "      <td>shNC-2</td>\n",
       "      <td>chr6</td>\n",
       "      <td>57193380</td>\n",
       "      <td>57193580</td>\n",
       "      <td>-</td>\n",
       "      <td>201</td>\n",
       "      <td>1.930008</td>\n",
       "      <td>TTTATA6CAGTTATTCTTCTGAATCTGTACTTACACTGGCTCTTAC...</td>\n",
       "      <td>[57193697, 57193717, 57193584, 57193746, 57193...</td>\n",
       "      <td>None</td>\n",
       "      <td>None</td>\n",
       "    </tr>\n",
       "    <tr>\n",
       "      <th>34933</th>\n",
       "      <td>shNC-2</td>\n",
       "      <td>chr6</td>\n",
       "      <td>63680097</td>\n",
       "      <td>63680299</td>\n",
       "      <td>-</td>\n",
       "      <td>203</td>\n",
       "      <td>1.882470</td>\n",
       "      <td>TCTCAAA6CTGATTGCCATCAAAACGAATGGATTAGCAAA6CATCA...</td>\n",
       "      <td>[63680337, 63680304, 63680416, 63680380, 63680...</td>\n",
       "      <td>None</td>\n",
       "      <td>None</td>\n",
       "    </tr>\n",
       "    <tr>\n",
       "      <th>...</th>\n",
       "      <td>...</td>\n",
       "      <td>...</td>\n",
       "      <td>...</td>\n",
       "      <td>...</td>\n",
       "      <td>...</td>\n",
       "      <td>...</td>\n",
       "      <td>...</td>\n",
       "      <td>...</td>\n",
       "      <td>...</td>\n",
       "      <td>...</td>\n",
       "      <td>...</td>\n",
       "    </tr>\n",
       "    <tr>\n",
       "      <th>35024</th>\n",
       "      <td>shNC-2</td>\n",
       "      <td>chr6</td>\n",
       "      <td>152612016</td>\n",
       "      <td>152612321</td>\n",
       "      <td>-</td>\n",
       "      <td>306</td>\n",
       "      <td>4.408457</td>\n",
       "      <td>TGGTGATATCCCCTTTATCATTTTTTATTGCATCTGTTTGATTCTT...</td>\n",
       "      <td>[152612427]</td>\n",
       "      <td>None</td>\n",
       "      <td>None</td>\n",
       "    </tr>\n",
       "    <tr>\n",
       "      <th>35025</th>\n",
       "      <td>shNC-2</td>\n",
       "      <td>chr6</td>\n",
       "      <td>154832613</td>\n",
       "      <td>154833460</td>\n",
       "      <td>-</td>\n",
       "      <td>848</td>\n",
       "      <td>3.060483</td>\n",
       "      <td>AGCCATTATCTATTACAGAGAGATG6CAACTTTACAAAAGGTATCT...</td>\n",
       "      <td>[154833755, 154834287, 154833966, 154834013, 1...</td>\n",
       "      <td>None</td>\n",
       "      <td>None</td>\n",
       "    </tr>\n",
       "    <tr>\n",
       "      <th>35026</th>\n",
       "      <td>shNC-2</td>\n",
       "      <td>chr6</td>\n",
       "      <td>154833725</td>\n",
       "      <td>154833945</td>\n",
       "      <td>-</td>\n",
       "      <td>221</td>\n",
       "      <td>48.919655</td>\n",
       "      <td>GGA6CAAATCACAA6CACTTACTTTGGAGAA6CAGAG6CCGTAGTG...</td>\n",
       "      <td>[154833957, 154833974, 154833980, 154833946, 1...</td>\n",
       "      <td>None</td>\n",
       "      <td>None</td>\n",
       "    </tr>\n",
       "    <tr>\n",
       "      <th>35027</th>\n",
       "      <td>shNC-2</td>\n",
       "      <td>chr6</td>\n",
       "      <td>156778066</td>\n",
       "      <td>156778307</td>\n",
       "      <td>-</td>\n",
       "      <td>242</td>\n",
       "      <td>7.415899</td>\n",
       "      <td>CTGCTGCTGCTGCTGTTGCTGCTGCTGCTGCTGCTGCTGGA6CTGG...</td>\n",
       "      <td>[156778346]</td>\n",
       "      <td>None</td>\n",
       "      <td>None</td>\n",
       "    </tr>\n",
       "    <tr>\n",
       "      <th>35028</th>\n",
       "      <td>shNC-2</td>\n",
       "      <td>chr6</td>\n",
       "      <td>157200929</td>\n",
       "      <td>157201167</td>\n",
       "      <td>-</td>\n",
       "      <td>239</td>\n",
       "      <td>3.575523</td>\n",
       "      <td>ACGACATATAAGGCTGACGCTGGCTGACGTGAGAAGGCCACTGGCT...</td>\n",
       "      <td>[]</td>\n",
       "      <td>None</td>\n",
       "      <td>None</td>\n",
       "    </tr>\n",
       "  </tbody>\n",
       "</table>\n",
       "<p>100 rows × 11 columns</p>\n",
       "</div>"
      ],
      "text/plain": [
       "         name   Chr      Start        End Strand  Length   IP/input  \\\n",
       "34929  shNC-2  chr6   57147603   57147842      -     240   2.102651   \n",
       "34930  shNC-2  chr6   57148121   57148786      -     666   1.818664   \n",
       "34931  shNC-2  chr6   57169858   57170107      -     250   1.656749   \n",
       "34932  shNC-2  chr6   57193380   57193580      -     201   1.930008   \n",
       "34933  shNC-2  chr6   63680097   63680299      -     203   1.882470   \n",
       "...       ...   ...        ...        ...    ...     ...        ...   \n",
       "35024  shNC-2  chr6  152612016  152612321      -     306   4.408457   \n",
       "35025  shNC-2  chr6  154832613  154833460      -     848   3.060483   \n",
       "35026  shNC-2  chr6  154833725  154833945      -     221  48.919655   \n",
       "35027  shNC-2  chr6  156778066  156778307      -     242   7.415899   \n",
       "35028  shNC-2  chr6  157200929  157201167      -     239   3.575523   \n",
       "\n",
       "                                                   kmers  \\\n",
       "34929  GGCTTGTTAGCAGTCAAATTATCCAATGTTGTAGAGGATGATGGCA...   \n",
       "34930  ACCCTGTTTCTTGCTTCAAAATTGAATCGAGGTGGGTACATTGTAA...   \n",
       "34931  AACAGTCATGATGAAATATCCCTTTCCTGTCTTATCAGAAGCCTTA...   \n",
       "34932  TTTATA6CAGTTATTCTTCTGAATCTGTACTTACACTGGCTCTTAC...   \n",
       "34933  TCTCAAA6CTGATTGCCATCAAAACGAATGGATTAGCAAA6CATCA...   \n",
       "...                                                  ...   \n",
       "35024  TGGTGATATCCCCTTTATCATTTTTTATTGCATCTGTTTGATTCTT...   \n",
       "35025  AGCCATTATCTATTACAGAGAGATG6CAACTTTACAAAAGGTATCT...   \n",
       "35026  GGA6CAAATCACAA6CACTTACTTTGGAGAA6CAGAG6CCGTAGTG...   \n",
       "35027  CTGCTGCTGCTGCTGTTGCTGCTGCTGCTGCTGCTGCTGGA6CTGG...   \n",
       "35028  ACGACATATAAGGCTGACGCTGGCTGACGTGAGAAGGCCACTGGCT...   \n",
       "\n",
       "                                                    Site  Gene m6a_position  \n",
       "34929                               [57147979, 57148062]  None         None  \n",
       "34930  [57149228, 57148926, 57148988, 57149217, 57149...  None         None  \n",
       "34931                               [57170274, 57170352]  None         None  \n",
       "34932  [57193697, 57193717, 57193584, 57193746, 57193...  None         None  \n",
       "34933  [63680337, 63680304, 63680416, 63680380, 63680...  None         None  \n",
       "...                                                  ...   ...          ...  \n",
       "35024                                        [152612427]  None         None  \n",
       "35025  [154833755, 154834287, 154833966, 154834013, 1...  None         None  \n",
       "35026  [154833957, 154833974, 154833980, 154833946, 1...  None         None  \n",
       "35027                                        [156778346]  None         None  \n",
       "35028                                                 []  None         None  \n",
       "\n",
       "[100 rows x 11 columns]"
      ]
     },
     "execution_count": 14,
     "metadata": {},
     "output_type": "execute_result"
    }
   ],
   "source": [
    "m6a_merged_cpm_df"
   ]
  },
  {
   "cell_type": "code",
   "execution_count": null,
   "metadata": {},
   "outputs": [],
   "source": [
    "m6a_merged_cpm_df.to_csv(\"./data/merge_m6a_mane_gene.csv\")"
   ]
  },
  {
   "cell_type": "code",
   "execution_count": null,
   "metadata": {},
   "outputs": [],
   "source": []
  }
 ],
 "metadata": {
  "kernelspec": {
   "display_name": "dna",
   "language": "python",
   "name": "python3"
  },
  "language_info": {
   "codemirror_mode": {
    "name": "ipython",
    "version": 3
   },
   "file_extension": ".py",
   "mimetype": "text/x-python",
   "name": "python",
   "nbconvert_exporter": "python",
   "pygments_lexer": "ipython3",
   "version": "3.10.14"
  }
 },
 "nbformat": 4,
 "nbformat_minor": 2
}
